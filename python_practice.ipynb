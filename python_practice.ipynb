{
 "cells": [
  {
   "cell_type": "code",
   "execution_count": 1,
   "id": "e8b20783",
   "metadata": {},
   "outputs": [
    {
     "name": "stdout",
     "output_type": "stream",
     "text": [
      "bread\n",
      "['fruits']\n",
      "['bread', 'pasta', 'fruits', 'butter']\n"
     ]
    }
   ],
   "source": [
    "items=['bread','pasta','fruits']\n",
    "print(items[0])\n",
    "\n",
    "print(items[-1:])\n",
    "\n",
    "items.append('butter')\n",
    "print(items)"
   ]
  },
  {
   "cell_type": "code",
   "execution_count": 2,
   "id": "a98b92a8",
   "metadata": {},
   "outputs": [
    {
     "name": "stdout",
     "output_type": "stream",
     "text": [
      "['bread', 'pasta', 'fruits', 'butter', 'guuter', 'sutter', 'mutter']\n"
     ]
    }
   ],
   "source": [
    "#how to add 2 lists\n",
    "mitems=['guuter','sutter','mutter']\n",
    "\n",
    "gitems=items+mitems\n",
    "print(gitems)\n"
   ]
  },
  {
   "cell_type": "code",
   "execution_count": 3,
   "id": "de60e3ed",
   "metadata": {},
   "outputs": [
    {
     "data": {
      "text/plain": [
       "4"
      ]
     },
     "execution_count": 3,
     "metadata": {},
     "output_type": "execute_result"
    }
   ],
   "source": [
    "len(items)"
   ]
  },
  {
   "cell_type": "code",
   "execution_count": 5,
   "id": "a8c1d929",
   "metadata": {},
   "outputs": [
    {
     "data": {
      "text/plain": [
       "False"
      ]
     },
     "execution_count": 5,
     "metadata": {},
     "output_type": "execute_result"
    }
   ],
   "source": [
    "'chicken' in items"
   ]
  },
  {
   "cell_type": "code",
   "execution_count": 6,
   "id": "aad38677",
   "metadata": {},
   "outputs": [
    {
     "data": {
      "text/plain": [
       "True"
      ]
     },
     "execution_count": 6,
     "metadata": {},
     "output_type": "execute_result"
    }
   ],
   "source": [
    "'guuter' in mitems"
   ]
  },
  {
   "cell_type": "code",
   "execution_count": 7,
   "id": "e86029ea",
   "metadata": {},
   "outputs": [
    {
     "name": "stdout",
     "output_type": "stream",
     "text": [
      "435\n"
     ]
    }
   ],
   "source": [
    "#measure total distance from new york to baltimore to pittsburg\n",
    "nyc_bal=188\n",
    "bal_pitt=247\n",
    "total_dist=nyc_bal+bal_pitt\n",
    "print(total_dist)"
   ]
  },
  {
   "cell_type": "code",
   "execution_count": 8,
   "id": "514a51f7",
   "metadata": {},
   "outputs": [
    {
     "name": "stdout",
     "output_type": "stream",
     "text": [
      "6.6923076923076925\n"
     ]
    }
   ],
   "source": [
    "mph=65\n",
    "time=total_dist/mph\n",
    "print(time)"
   ]
  },
  {
   "cell_type": "code",
   "execution_count": 9,
   "id": "ece22ca8",
   "metadata": {},
   "outputs": [
    {
     "name": "stdout",
     "output_type": "stream",
     "text": [
      "6.69\n"
     ]
    }
   ],
   "source": [
    "print(round(time,2))"
   ]
  },
  {
   "cell_type": "code",
   "execution_count": 10,
   "id": "c2e62184",
   "metadata": {},
   "outputs": [
    {
     "name": "stdout",
     "output_type": "stream",
     "text": [
      "16\n"
     ]
    }
   ],
   "source": [
    "print(10+2*3)\n"
   ]
  },
  {
   "cell_type": "code",
   "execution_count": 1,
   "id": "33dd41b5",
   "metadata": {},
   "outputs": [
    {
     "name": "stdout",
     "output_type": "stream",
     "text": [
      "ice cream\n"
     ]
    }
   ],
   "source": [
    "text=\"ice cream\"\n",
    "print(text)"
   ]
  },
  {
   "cell_type": "code",
   "execution_count": 2,
   "id": "3763d321",
   "metadata": {},
   "outputs": [
    {
     "name": "stdout",
     "output_type": "stream",
     "text": [
      "i\n"
     ]
    }
   ],
   "source": [
    "print(text[0])"
   ]
  },
  {
   "cell_type": "code",
   "execution_count": 4,
   "id": "3ae73594",
   "metadata": {},
   "outputs": [
    {
     "ename": "TypeError",
     "evalue": "'str' object does not support item assignment",
     "output_type": "error",
     "traceback": [
      "\u001b[0;31m---------------------------------------------------------------------------\u001b[0m",
      "\u001b[0;31mTypeError\u001b[0m                                 Traceback (most recent call last)",
      "Cell \u001b[0;32mIn[4], line 1\u001b[0m\n\u001b[0;32m----> 1\u001b[0m \u001b[43mtext\u001b[49m\u001b[43m[\u001b[49m\u001b[38;5;241;43m0\u001b[39;49m\u001b[43m]\u001b[49m\u001b[38;5;241m=\u001b[39m\u001b[38;5;124m'\u001b[39m\u001b[38;5;124mg\u001b[39m\u001b[38;5;124m'\u001b[39m\n",
      "\u001b[0;31mTypeError\u001b[0m: 'str' object does not support item assignment"
     ]
    }
   ],
   "source": [
    "text[0]='g'"
   ]
  },
  {
   "cell_type": "code",
   "execution_count": 5,
   "id": "537d5c41",
   "metadata": {},
   "outputs": [
    {
     "name": "stdout",
     "output_type": "stream",
     "text": [
      "ice\n"
     ]
    }
   ],
   "source": [
    "print(text[0:3])"
   ]
  },
  {
   "cell_type": "code",
   "execution_count": 6,
   "id": "26d0d6b3",
   "metadata": {},
   "outputs": [
    {
     "name": "stdout",
     "output_type": "stream",
     "text": [
      "cream\n"
     ]
    }
   ],
   "source": [
    "print(text[4:])"
   ]
  },
  {
   "cell_type": "code",
   "execution_count": 8,
   "id": "f102fab4",
   "metadata": {},
   "outputs": [],
   "source": [
    "text1= \"\"\"dfjkl\n",
    "dljfsjfflj \"\"\""
   ]
  },
  {
   "cell_type": "code",
   "execution_count": 9,
   "id": "0c3ae155",
   "metadata": {},
   "outputs": [
    {
     "name": "stdout",
     "output_type": "stream",
     "text": [
      "dfjkl\n",
      "dljfsjfflj \n"
     ]
    }
   ],
   "source": [
    "print(text1)"
   ]
  },
  {
   "cell_type": "code",
   "execution_count": 10,
   "id": "8f12781c",
   "metadata": {},
   "outputs": [
    {
     "name": "stdout",
     "output_type": "stream",
     "text": [
      "total states in usa #25\n"
     ]
    }
   ],
   "source": [
    "#how to join a string with int\n",
    "s='total states in usa #'\n",
    "num=25\n",
    "print(s + str(num))"
   ]
  },
  {
   "cell_type": "code",
   "execution_count": 11,
   "id": "5cb4d024",
   "metadata": {},
   "outputs": [
    {
     "data": {
      "text/plain": [
       "int"
      ]
     },
     "execution_count": 11,
     "metadata": {},
     "output_type": "execute_result"
    }
   ],
   "source": [
    "type(num)"
   ]
  },
  {
   "cell_type": "code",
   "execution_count": 12,
   "id": "e1951843",
   "metadata": {},
   "outputs": [
    {
     "data": {
      "text/plain": [
       "str"
      ]
     },
     "execution_count": 12,
     "metadata": {},
     "output_type": "execute_result"
    }
   ],
   "source": [
    "type(s)"
   ]
  },
  {
   "cell_type": "code",
   "execution_count": 14,
   "id": "102f915d",
   "metadata": {},
   "outputs": [
    {
     "name": "stdout",
     "output_type": "stream",
     "text": [
      "Expense items rent gas groceries\n"
     ]
    }
   ],
   "source": [
    "item1='rent'\n",
    "item2='gas'\n",
    "item3='groceries'\n",
    "print(\"Expense items\",item1,item2,item3)"
   ]
  },
  {
   "cell_type": "code",
   "execution_count": 15,
   "id": "dd8c342b",
   "metadata": {},
   "outputs": [
    {
     "name": "stdout",
     "output_type": "stream",
     "text": [
      "The area of triangle is 20.0\n"
     ]
    }
   ],
   "source": [
    "height=10\n",
    "base=4\n",
    "area=(height*base)*(1/2)\n",
    "print(\"The area of triangle is\",area)"
   ]
  },
  {
   "cell_type": "code",
   "execution_count": 2,
   "id": "1becfa26",
   "metadata": {},
   "outputs": [],
   "source": [
    "key_location= 'chair'\n",
    "locations=['table','chair','garage','hall']\n"
   ]
  },
  {
   "cell_type": "code",
   "execution_count": 3,
   "id": "eee96f26",
   "metadata": {},
   "outputs": [
    {
     "name": "stdout",
     "output_type": "stream",
     "text": [
      "<class 'str'>\n",
      "<class 'str'>\n",
      "<class 'str'>\n",
      "<class 'str'>\n"
     ]
    }
   ],
   "source": [
    "for i in locations:\n",
    "    print(type(i))\n",
    "    "
   ]
  },
  {
   "cell_type": "code",
   "execution_count": 10,
   "id": "8402d69d",
   "metadata": {},
   "outputs": [
    {
     "name": "stdout",
     "output_type": "stream",
     "text": [
      "key is not there on: table\n",
      "key is found on : chair\n"
     ]
    }
   ],
   "source": [
    "for i in locations:\n",
    "    if i == key_location:\n",
    "        print(\"key is found on :\",i)\n",
    "        break\n",
    "    else:\n",
    "        print(\"key is not there on:\",i)\n",
    "        "
   ]
  },
  {
   "cell_type": "code",
   "execution_count": 9,
   "id": "0986d10a",
   "metadata": {},
   "outputs": [
    {
     "name": "stdout",
     "output_type": "stream",
     "text": [
      "Key is not found in table\n",
      "Key is found in  chair\n"
     ]
    }
   ],
   "source": [
    "for i in locations:\n",
    "    if i==key_location:\n",
    "        print(\"Key is found in \",i)\n",
    "        break\n",
    "    else:\n",
    "        print(\"Key is not found in\",i)"
   ]
  },
  {
   "cell_type": "code",
   "execution_count": 18,
   "id": "e263d283",
   "metadata": {},
   "outputs": [
    {
     "name": "stdout",
     "output_type": "stream",
     "text": [
      "1\n",
      "9\n",
      "25\n",
      "49\n",
      "81\n"
     ]
    }
   ],
   "source": [
    "# print square of numbers between 1 to 10 except even numbers\n",
    "for i in range(1,10,2):\n",
    "    print(i*i)"
   ]
  },
  {
   "cell_type": "code",
   "execution_count": 20,
   "id": "2d7d98e7",
   "metadata": {},
   "outputs": [
    {
     "name": "stdout",
     "output_type": "stream",
     "text": [
      "1\n",
      "9\n",
      "25\n",
      "49\n",
      "81\n"
     ]
    }
   ],
   "source": [
    "for i in range(1,11):\n",
    "    if i%2==0:\n",
    "        continue\n",
    "    print(i*i) \n"
   ]
  },
  {
   "cell_type": "code",
   "execution_count": 2,
   "id": "cb830b9a",
   "metadata": {},
   "outputs": [
    {
     "name": "stdout",
     "output_type": "stream",
     "text": [
      "1\n",
      "9\n",
      "25\n",
      "49\n",
      "81\n"
     ]
    }
   ],
   "source": [
    "for i in range(1,11):\n",
    "    if i%2!=0:\n",
    "        print(i*i) \n",
    "    continue"
   ]
  },
  {
   "cell_type": "code",
   "execution_count": 6,
   "id": "249bf8fd",
   "metadata": {},
   "outputs": [
    {
     "name": "stdout",
     "output_type": "stream",
     "text": [
      " \n",
      "10 100\n"
     ]
    }
   ],
   "source": [
    "print(\" \")\n",
    "j=i\n",
    "print(j,end=\" \") \n",
    "print(i*i) "
   ]
  },
  {
   "cell_type": "code",
   "execution_count": 8,
   "id": "6f683516",
   "metadata": {},
   "outputs": [],
   "source": [
    "exp = [2340, 2500, 3200, 5309, 3233]\n"
   ]
  },
  {
   "cell_type": "code",
   "execution_count": 11,
   "id": "010f4a1f",
   "metadata": {},
   "outputs": [
    {
     "name": "stdout",
     "output_type": "stream",
     "text": [
      "Total expense is : 16582\n"
     ]
    }
   ],
   "source": [
    "total = 0\n",
    "\n",
    "for i in exp:\n",
    "    total += i\n",
    "print(\"Total expense is :\",total)"
   ]
  },
  {
   "cell_type": "code",
   "execution_count": 10,
   "id": "876e7d2d",
   "metadata": {},
   "outputs": [
    {
     "name": "stdout",
     "output_type": "stream",
     "text": [
      "Month 1 Expense 2340\n",
      "Month 2 Expense 2500\n",
      "Month 3 Expense 3200\n",
      "Month 4 Expense 5309\n",
      "Month 5 Expense 3233\n",
      "The total expesne is 16582\n"
     ]
    }
   ],
   "source": [
    "#Problem:Store monthly expenses in a list and find out total expenses for all months\n",
    "exp = [2340, 2500, 3200, 5309, 3233]\n",
    "\n",
    "#total = exp[0] + exp[1] + exp[2] + exp[3] + exp[4]\n",
    "\n",
    "#print(\"The total expenses in all January to may is\",total)\n",
    "total=0\n",
    "# for exp in exp:\n",
    "#     total=exp+total\n",
    "# print(\"The total expense is\",total)\n",
    "\n",
    "# print month number and expense and then in the end print total expense\n",
    "for i in range(len(exp)):\n",
    "    print(\"Month\",(i+1),\"Expense\",exp[i])\n",
    "    total=exp[i]+total\n",
    "print(\"The total expesne is\",total)"
   ]
  },
  {
   "cell_type": "code",
   "execution_count": null,
   "id": "71fe6a0c",
   "metadata": {},
   "outputs": [],
   "source": []
  }
 ],
 "metadata": {
  "kernelspec": {
   "display_name": "Python 3",
   "language": "python",
   "name": "python3"
  },
  "language_info": {
   "codemirror_mode": {
    "name": "ipython",
    "version": 3
   },
   "file_extension": ".py",
   "mimetype": "text/x-python",
   "name": "python",
   "nbconvert_exporter": "python",
   "pygments_lexer": "ipython3",
   "version": "3.8.10"
  }
 },
 "nbformat": 4,
 "nbformat_minor": 5
}
